{
 "cells": [
  {
   "cell_type": "markdown",
   "id": "3925a025",
   "metadata": {},
   "source": [
    "# Sparse"
   ]
  },
  {
   "cell_type": "code",
   "execution_count": 54,
   "id": "e2eeb642",
   "metadata": {},
   "outputs": [],
   "source": [
    "import numpy as np"
   ]
  },
  {
   "cell_type": "code",
   "execution_count": 55,
   "id": "7ed89d8e",
   "metadata": {},
   "outputs": [
    {
     "name": "stdout",
     "output_type": "stream",
     "text": [
      "[ 0.  2.  4.  6.  8. 10.]\n",
      "[0. 1. 2. 3. 4. 5.]\n"
     ]
    }
   ],
   "source": [
    "x = np.linspace(0, 10, 6)\n",
    "y = np.linspace(0, 5, 6)\n",
    "print(x)\n",
    "print(y)"
   ]
  },
  {
   "cell_type": "code",
   "execution_count": 61,
   "id": "b00612a5",
   "metadata": {
    "scrolled": true
   },
   "outputs": [
    {
     "data": {
      "text/plain": [
       "[array([[ 0.,  2.,  4.,  6.,  8., 10.]]),\n",
       " array([[0.],\n",
       "        [1.],\n",
       "        [2.],\n",
       "        [3.],\n",
       "        [4.],\n",
       "        [5.]])]"
      ]
     },
     "execution_count": 61,
     "metadata": {},
     "output_type": "execute_result"
    }
   ],
   "source": [
    "xx, yy = np.meshgrid(x, y, sparse=True)\n",
    "[xx, yy]"
   ]
  },
  {
   "cell_type": "code",
   "execution_count": 62,
   "id": "9ce5ab57",
   "metadata": {},
   "outputs": [
    {
     "data": {
      "text/plain": [
       "(array([ 0.,  2.,  4.,  6.,  8., 10.]), array([0., 1., 2., 3., 4., 5.]))"
      ]
     },
     "execution_count": 62,
     "metadata": {},
     "output_type": "execute_result"
    }
   ],
   "source": [
    "xx.ravel(), yy.ravel()"
   ]
  },
  {
   "cell_type": "code",
   "execution_count": 63,
   "id": "16ec3c67",
   "metadata": {},
   "outputs": [
    {
     "data": {
      "text/plain": [
       "(6, 2)"
      ]
     },
     "execution_count": 63,
     "metadata": {},
     "output_type": "execute_result"
    }
   ],
   "source": [
    "(np.c_[xx.ravel(), yy.ravel()]).shape"
   ]
  },
  {
   "cell_type": "code",
   "execution_count": 64,
   "id": "eeb4e58b",
   "metadata": {},
   "outputs": [
    {
     "data": {
      "text/plain": [
       "<matplotlib.contour.QuadContourSet at 0x1d239974b80>"
      ]
     },
     "execution_count": 64,
     "metadata": {},
     "output_type": "execute_result"
    },
    {
     "data": {
      "image/png": "[encoded data removed]",
      "text/plain": [
       "<Figure size 432x288 with 1 Axes>"
      ]
     },
     "metadata": {
      "needs_background": "light"
     },
     "output_type": "display_data"
    }
   ],
   "source": [
    "import matplotlib.pyplot as plt\n",
    "\n",
    "plt.contourf(xx.ravel(), yy.ravel(), (xx + yy))"
   ]
  },
  {
   "cell_type": "code",
   "execution_count": 65,
   "id": "727c14b6",
   "metadata": {
    "scrolled": true
   },
   "outputs": [
    {
     "data": {
      "text/plain": [
       "(6, 6)"
      ]
     },
     "execution_count": 65,
     "metadata": {},
     "output_type": "execute_result"
    }
   ],
   "source": [
    "(xx + yy).shape"
   ]
  },
  {
   "cell_type": "markdown",
   "id": "57ba461e",
   "metadata": {},
   "source": [
    "# No Sparse"
   ]
  },
  {
   "cell_type": "code",
   "execution_count": 66,
   "id": "5c05b47f",
   "metadata": {},
   "outputs": [
    {
     "data": {
      "text/plain": [
       "[array([[ 0.,  2.,  4.,  6.,  8., 10.],\n",
       "        [ 0.,  2.,  4.,  6.,  8., 10.],\n",
       "        [ 0.,  2.,  4.,  6.,  8., 10.],\n",
       "        [ 0.,  2.,  4.,  6.,  8., 10.],\n",
       "        [ 0.,  2.,  4.,  6.,  8., 10.],\n",
       "        [ 0.,  2.,  4.,  6.,  8., 10.]]),\n",
       " array([[0., 0., 0., 0., 0., 0.],\n",
       "        [1., 1., 1., 1., 1., 1.],\n",
       "        [2., 2., 2., 2., 2., 2.],\n",
       "        [3., 3., 3., 3., 3., 3.],\n",
       "        [4., 4., 4., 4., 4., 4.],\n",
       "        [5., 5., 5., 5., 5., 5.]])]"
      ]
     },
     "execution_count": 66,
     "metadata": {},
     "output_type": "execute_result"
    }
   ],
   "source": [
    "xx, yy = np.meshgrid(x, y, sparse=False)\n",
    "[xx, yy]"
   ]
  },
  {
   "cell_type": "code",
   "execution_count": 69,
   "id": "69659c24",
   "metadata": {},
   "outputs": [
    {
     "data": {
      "text/plain": [
       "(array([[ 0.,  2.,  4.,  6.,  8., 10.],\n",
       "        [ 0.,  2.,  4.,  6.,  8., 10.],\n",
       "        [ 0.,  2.,  4.,  6.,  8., 10.],\n",
       "        [ 0.,  2.,  4.,  6.,  8., 10.],\n",
       "        [ 0.,  2.,  4.,  6.,  8., 10.],\n",
       "        [ 0.,  2.,  4.,  6.,  8., 10.]]),\n",
       " array([[0., 0., 0., 0., 0., 0.],\n",
       "        [1., 1., 1., 1., 1., 1.],\n",
       "        [2., 2., 2., 2., 2., 2.],\n",
       "        [3., 3., 3., 3., 3., 3.],\n",
       "        [4., 4., 4., 4., 4., 4.],\n",
       "        [5., 5., 5., 5., 5., 5.]]))"
      ]
     },
     "execution_count": 69,
     "metadata": {},
     "output_type": "execute_result"
    }
   ],
   "source": []
  },
  {
   "cell_type": "code",
   "execution_count": 73,
   "id": "3f1d28dd",
   "metadata": {},
   "outputs": [
    {
     "data": {
      "text/plain": [
       "array([[ 0.,  0.],\n",
       "       [ 2.,  0.],\n",
       "       [ 4.,  0.],\n",
       "       [ 6.,  0.],\n",
       "       [ 8.,  0.],\n",
       "       [10.,  0.],\n",
       "       [ 0.,  1.],\n",
       "       [ 2.,  1.],\n",
       "       [ 4.,  1.],\n",
       "       [ 6.,  1.],\n",
       "       [ 8.,  1.],\n",
       "       [10.,  1.],\n",
       "       [ 0.,  2.],\n",
       "       [ 2.,  2.],\n",
       "       [ 4.,  2.],\n",
       "       [ 6.,  2.],\n",
       "       [ 8.,  2.],\n",
       "       [10.,  2.],\n",
       "       [ 0.,  3.],\n",
       "       [ 2.,  3.],\n",
       "       [ 4.,  3.],\n",
       "       [ 6.,  3.],\n",
       "       [ 8.,  3.],\n",
       "       [10.,  3.],\n",
       "       [ 0.,  4.],\n",
       "       [ 2.,  4.],\n",
       "       [ 4.,  4.],\n",
       "       [ 6.,  4.],\n",
       "       [ 8.,  4.],\n",
       "       [10.,  4.],\n",
       "       [ 0.,  5.],\n",
       "       [ 2.,  5.],\n",
       "       [ 4.,  5.],\n",
       "       [ 6.,  5.],\n",
       "       [ 8.,  5.],\n",
       "       [10.,  5.]])"
      ]
     },
     "execution_count": 73,
     "metadata": {},
     "output_type": "execute_result"
    }
   ],
   "source": [
    "np.c_[xx.ravel(), yy.ravel()]"
   ]
  },
  {
   "cell_type": "code",
   "execution_count": 71,
   "id": "c916a54e",
   "metadata": {},
   "outputs": [
    {
     "data": {
      "text/plain": [
       "<matplotlib.contour.QuadContourSet at 0x1d239a7f670>"
      ]
     },
     "execution_count": 71,
     "metadata": {},
     "output_type": "execute_result"
    },
    {
     "data": {
      "image/png": "[encoded data removed]",
      "text/plain": [
       "<Figure size 432x288 with 1 Axes>"
      ]
     },
     "metadata": {
      "needs_background": "light"
     },
     "output_type": "display_data"
    }
   ],
   "source": [
    "plt.contourf(xx, yy, (xx + yy))"
   ]
  }
 ],
 "metadata": {
  "kernelspec": {
   "display_name": "Python 3 (ipykernel)",
   "language": "python",
   "name": "python3"
  },
  "language_info": {
   "codemirror_mode": {
    "name": "ipython",
    "version": 3
   },
   "file_extension": ".py",
   "mimetype": "text/x-python",
   "name": "python",
   "nbconvert_exporter": "python",
   "pygments_lexer": "ipython3",
   "version": "3.9.12"
  }
 },
 "nbformat": 4,
 "nbformat_minor": 5
}
